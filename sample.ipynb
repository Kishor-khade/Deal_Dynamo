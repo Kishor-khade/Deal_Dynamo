{
 "cells": [
  {
   "cell_type": "code",
   "execution_count": 1,
   "metadata": {},
   "outputs": [],
   "source": [
    "import pandas as pd"
   ]
  },
  {
   "cell_type": "code",
   "execution_count": 2,
   "metadata": {},
   "outputs": [],
   "source": [
    "df = pd.read_csv('data_2023-10-15.csv')"
   ]
  },
  {
   "cell_type": "code",
   "execution_count": 3,
   "metadata": {},
   "outputs": [
    {
     "data": {
      "text/html": [
       "<div>\n",
       "<style scoped>\n",
       "    .dataframe tbody tr th:only-of-type {\n",
       "        vertical-align: middle;\n",
       "    }\n",
       "\n",
       "    .dataframe tbody tr th {\n",
       "        vertical-align: top;\n",
       "    }\n",
       "\n",
       "    .dataframe thead th {\n",
       "        text-align: right;\n",
       "    }\n",
       "</style>\n",
       "<table border=\"1\" class=\"dataframe\">\n",
       "  <thead>\n",
       "    <tr style=\"text-align: right;\">\n",
       "      <th></th>\n",
       "      <th>group</th>\n",
       "      <th>sender</th>\n",
       "      <th>link</th>\n",
       "      <th>text</th>\n",
       "      <th>date</th>\n",
       "    </tr>\n",
       "  </thead>\n",
       "  <tbody>\n",
       "    <tr>\n",
       "      <th>0</th>\n",
       "      <td>Offer_point_Deals</td>\n",
       "      <td>-1001445021802</td>\n",
       "      <td>https://amzn.to/3ZSYK5r</td>\n",
       "      <td>Skin Elements Intimate Wash for Men 120ml @279...</td>\n",
       "      <td>2023-10-15 13:10:01+05:30</td>\n",
       "    </tr>\n",
       "    <tr>\n",
       "      <th>1</th>\n",
       "      <td>Offer_point_Deals</td>\n",
       "      <td>-1001445021802</td>\n",
       "      <td>https://fkrt.co/6jW3vn</td>\n",
       "      <td>**BEST** : Lenovo i3 12th Gen Laptop (8 GB/256...</td>\n",
       "      <td>2023-10-15 12:25:33+05:30</td>\n",
       "    </tr>\n",
       "    <tr>\n",
       "      <th>2</th>\n",
       "      <td>Offer_point_Deals</td>\n",
       "      <td>-1001445021802</td>\n",
       "      <td>NaN</td>\n",
       "      <td>**Wishing You All Happy Navratri 🙏🙏 \\nFrom Off...</td>\n",
       "      <td>2023-10-15 12:06:41+05:30</td>\n",
       "    </tr>\n",
       "    <tr>\n",
       "      <th>3</th>\n",
       "      <td>Offer_point_Deals</td>\n",
       "      <td>-1001445021802</td>\n",
       "      <td>https://amzn.to/48T5mEU</td>\n",
       "      <td>Samsung 183 L Single Door Refrigerator @11990 ...</td>\n",
       "      <td>2023-10-15 11:40:40+05:30</td>\n",
       "    </tr>\n",
       "    <tr>\n",
       "      <th>4</th>\n",
       "      <td>Offer_point_Deals</td>\n",
       "      <td>-1001445021802</td>\n",
       "      <td>https://amzn.to/46MM6XQ</td>\n",
       "      <td>Lenovo Backpack @399\\n\\nhttps://amzn.to/46MM6XQ</td>\n",
       "      <td>2023-10-15 11:28:01+05:30</td>\n",
       "    </tr>\n",
       "    <tr>\n",
       "      <th>...</th>\n",
       "      <td>...</td>\n",
       "      <td>...</td>\n",
       "      <td>...</td>\n",
       "      <td>...</td>\n",
       "      <td>...</td>\n",
       "    </tr>\n",
       "    <tr>\n",
       "      <th>1857</th>\n",
       "      <td>lootbot</td>\n",
       "      <td>-1001678712638</td>\n",
       "      <td>https://www.amazon.in/b?node=18707873031&amp;tag=p...</td>\n",
       "      <td>🛍 **Half Price Store  \\n\\n****💳**** Avail 10% ...</td>\n",
       "      <td>2023-10-15 08:38:46+05:30</td>\n",
       "    </tr>\n",
       "    <tr>\n",
       "      <th>1858</th>\n",
       "      <td>lootbot</td>\n",
       "      <td>-1001678712638</td>\n",
       "      <td>https://www.amazon.in/Reebok-Womens-Track-Jack...</td>\n",
       "      <td>🏃‍♂️**Reebok Women's Track Jacket @ 1200\\n\\n**...</td>\n",
       "      <td>2023-10-15 08:28:49+05:30</td>\n",
       "    </tr>\n",
       "    <tr>\n",
       "      <th>1859</th>\n",
       "      <td>lootbot</td>\n",
       "      <td>-1001678712638</td>\n",
       "      <td>https://www.amazon.in/dp/B00DQO9IXM?tag=proloo...</td>\n",
       "      <td>✨ **Apply 5% Off Coupon | Revlon Hair color Wo...</td>\n",
       "      <td>2023-10-15 08:26:41+05:30</td>\n",
       "    </tr>\n",
       "    <tr>\n",
       "      <th>1860</th>\n",
       "      <td>lootbot</td>\n",
       "      <td>-1001678712638</td>\n",
       "      <td>https://www.amazon.in/dp/B08R7RPVJF?tag=proloo...</td>\n",
       "      <td>🎒 **Lenovo 15.6\" (39.62cm) Slim Everyday Backp...</td>\n",
       "      <td>2023-10-15 07:48:18+05:30</td>\n",
       "    </tr>\n",
       "    <tr>\n",
       "      <th>1861</th>\n",
       "      <td>lootbot</td>\n",
       "      <td>-1001678712638</td>\n",
       "      <td>https://www.amazon.in/dp/B0C7MKKZBX?tag=proloo...</td>\n",
       "      <td>🍽 **Borosil Dinner Set (27 Pieces) ****@1190**...</td>\n",
       "      <td>2023-10-15 06:39:24+05:30</td>\n",
       "    </tr>\n",
       "  </tbody>\n",
       "</table>\n",
       "<p>1862 rows × 5 columns</p>\n",
       "</div>"
      ],
      "text/plain": [
       "                  group         sender  \\\n",
       "0     Offer_point_Deals -1001445021802   \n",
       "1     Offer_point_Deals -1001445021802   \n",
       "2     Offer_point_Deals -1001445021802   \n",
       "3     Offer_point_Deals -1001445021802   \n",
       "4     Offer_point_Deals -1001445021802   \n",
       "...                 ...            ...   \n",
       "1857            lootbot -1001678712638   \n",
       "1858            lootbot -1001678712638   \n",
       "1859            lootbot -1001678712638   \n",
       "1860            lootbot -1001678712638   \n",
       "1861            lootbot -1001678712638   \n",
       "\n",
       "                                                   link  \\\n",
       "0                               https://amzn.to/3ZSYK5r   \n",
       "1                                https://fkrt.co/6jW3vn   \n",
       "2                                                   NaN   \n",
       "3                               https://amzn.to/48T5mEU   \n",
       "4                               https://amzn.to/46MM6XQ   \n",
       "...                                                 ...   \n",
       "1857  https://www.amazon.in/b?node=18707873031&tag=p...   \n",
       "1858  https://www.amazon.in/Reebok-Womens-Track-Jack...   \n",
       "1859  https://www.amazon.in/dp/B00DQO9IXM?tag=proloo...   \n",
       "1860  https://www.amazon.in/dp/B08R7RPVJF?tag=proloo...   \n",
       "1861  https://www.amazon.in/dp/B0C7MKKZBX?tag=proloo...   \n",
       "\n",
       "                                                   text  \\\n",
       "0     Skin Elements Intimate Wash for Men 120ml @279...   \n",
       "1     **BEST** : Lenovo i3 12th Gen Laptop (8 GB/256...   \n",
       "2     **Wishing You All Happy Navratri 🙏🙏 \\nFrom Off...   \n",
       "3     Samsung 183 L Single Door Refrigerator @11990 ...   \n",
       "4       Lenovo Backpack @399\\n\\nhttps://amzn.to/46MM6XQ   \n",
       "...                                                 ...   \n",
       "1857  🛍 **Half Price Store  \\n\\n****💳**** Avail 10% ...   \n",
       "1858  🏃‍♂️**Reebok Women's Track Jacket @ 1200\\n\\n**...   \n",
       "1859  ✨ **Apply 5% Off Coupon | Revlon Hair color Wo...   \n",
       "1860  🎒 **Lenovo 15.6\" (39.62cm) Slim Everyday Backp...   \n",
       "1861  🍽 **Borosil Dinner Set (27 Pieces) ****@1190**...   \n",
       "\n",
       "                           date  \n",
       "0     2023-10-15 13:10:01+05:30  \n",
       "1     2023-10-15 12:25:33+05:30  \n",
       "2     2023-10-15 12:06:41+05:30  \n",
       "3     2023-10-15 11:40:40+05:30  \n",
       "4     2023-10-15 11:28:01+05:30  \n",
       "...                         ...  \n",
       "1857  2023-10-15 08:38:46+05:30  \n",
       "1858  2023-10-15 08:28:49+05:30  \n",
       "1859  2023-10-15 08:26:41+05:30  \n",
       "1860  2023-10-15 07:48:18+05:30  \n",
       "1861  2023-10-15 06:39:24+05:30  \n",
       "\n",
       "[1862 rows x 5 columns]"
      ]
     },
     "execution_count": 3,
     "metadata": {},
     "output_type": "execute_result"
    }
   ],
   "source": [
    "df"
   ]
  },
  {
   "cell_type": "code",
   "execution_count": 9,
   "metadata": {},
   "outputs": [
    {
     "name": "stdout",
     "output_type": "stream",
     "text": [
      "<class 'pandas.core.frame.DataFrame'>\n",
      "RangeIndex: 1862 entries, 0 to 1861\n",
      "Data columns (total 5 columns):\n",
      " #   Column  Non-Null Count  Dtype \n",
      "---  ------  --------------  ----- \n",
      " 0   group   1862 non-null   object\n",
      " 1   sender  1862 non-null   int64 \n",
      " 2   link    1779 non-null   object\n",
      " 3   text    1808 non-null   object\n",
      " 4   date    1862 non-null   object\n",
      "dtypes: int64(1), object(4)\n",
      "memory usage: 72.9+ KB\n"
     ]
    }
   ],
   "source": [
    "df.info()"
   ]
  },
  {
   "cell_type": "code",
   "execution_count": 12,
   "metadata": {},
   "outputs": [
    {
     "data": {
      "text/plain": [
       "0       Skin Elements Intimate Wash for Men 120ml @279...\n",
       "1       **BEST** : Lenovo i3 12th Gen Laptop (8 GB/256...\n",
       "2       **Wishing You All Happy Navratri 🙏🙏 \\nFrom Off...\n",
       "3       Samsung 183 L Single Door Refrigerator @11990 ...\n",
       "4         Lenovo Backpack @399\\n\\nhttps://amzn.to/46MM6XQ\n",
       "                              ...                        \n",
       "1857    🛍 **Half Price Store  \\n\\n****💳**** Avail 10% ...\n",
       "1858    🏃‍♂️**Reebok Women's Track Jacket @ 1200\\n\\n**...\n",
       "1859    ✨ **Apply 5% Off Coupon | Revlon Hair color Wo...\n",
       "1860    🎒 **Lenovo 15.6\" (39.62cm) Slim Everyday Backp...\n",
       "1861    🍽 **Borosil Dinner Set (27 Pieces) ****@1190**...\n",
       "Name: text, Length: 1862, dtype: object"
      ]
     },
     "execution_count": 12,
     "metadata": {},
     "output_type": "execute_result"
    }
   ],
   "source": [
    "df.text.apply(lambda x: x)"
   ]
  },
  {
   "cell_type": "code",
   "execution_count": 13,
   "metadata": {},
   "outputs": [],
   "source": [
    "ab = df.text"
   ]
  },
  {
   "cell_type": "code",
   "execution_count": 81,
   "metadata": {},
   "outputs": [],
   "source": [
    "def remove_stars(x):\n",
    "    x = ' '.join(str(x).split('\\n'))\n",
    "    x = ''.join(x.split('*'))\n",
    "    return x"
   ]
  },
  {
   "cell_type": "code",
   "execution_count": 82,
   "metadata": {},
   "outputs": [
    {
     "data": {
      "text/plain": [
       "0       Skin Elements Intimate Wash for Men 120ml @279...\n",
       "1       BEST : Lenovo i3 12th Gen Laptop (8 GB/256 GB ...\n",
       "2       Wishing You All Happy Navratri 🙏🙏  From Offers...\n",
       "3       Samsung 183 L Single Door Refrigerator @11990 ...\n",
       "4           Lenovo Backpack @399  https://amzn.to/46MM6XQ\n",
       "                              ...                        \n",
       "1857    🛍 Half Price Store    💳 Avail 10% Instant Disc...\n",
       "1858    🏃‍♂️Reebok Women's Track Jacket @ 1200  🛒 [Buy...\n",
       "1859    ✨ Apply 5% Off Coupon | Revlon Hair color Wome...\n",
       "1860    🎒 Lenovo 15.6\" (39.62cm) Slim Everyday Backpac...\n",
       "1861    🍽 Borosil Dinner Set (27 Pieces) @1190  😱 [Buy...\n",
       "Name: text, Length: 1862, dtype: object"
      ]
     },
     "execution_count": 82,
     "metadata": {},
     "output_type": "execute_result"
    }
   ],
   "source": [
    "df.text.apply(lambda x : get_text(x))"
   ]
  },
  {
   "cell_type": "code",
   "execution_count": 74,
   "metadata": {},
   "outputs": [
    {
     "data": {
      "text/plain": [
       "'https://fkrt.co/b3WPef)'"
      ]
     },
     "execution_count": 74,
     "metadata": {},
     "output_type": "execute_result"
    }
   ],
   "source": [
    "str1 = \"https://fkrt.co/b3WPef)****\"\n",
    "''.join(str1.split('*'))"
   ]
  },
  {
   "cell_type": "code",
   "execution_count": null,
   "metadata": {},
   "outputs": [],
   "source": []
  }
 ],
 "metadata": {
  "kernelspec": {
   "display_name": "f_project",
   "language": "python",
   "name": "python3"
  },
  "language_info": {
   "codemirror_mode": {
    "name": "ipython",
    "version": 3
   },
   "file_extension": ".py",
   "mimetype": "text/x-python",
   "name": "python",
   "nbconvert_exporter": "python",
   "pygments_lexer": "ipython3",
   "version": "3.8.10"
  }
 },
 "nbformat": 4,
 "nbformat_minor": 2
}
